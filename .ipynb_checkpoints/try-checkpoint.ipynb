{
 "cells": [
  {
   "cell_type": "code",
   "execution_count": 1,
   "metadata": {
    "collapsed": false
   },
   "outputs": [
    {
     "name": "stdout",
     "output_type": "stream",
     "text": [
      "10 3\n",
      "17 3\n",
      "69 5\n",
      "13 9\n",
      "5 18\n",
      "9 3\n",
      "4 3\n",
      "4 9\n",
      "4 9\n",
      "4 9\n",
      "4 9\n",
      "4 9\n",
      "4 9\n",
      "4 9\n",
      "4 9\n",
      "4 9\n",
      "4 9\n",
      "4 9\n",
      "6 2\n",
      "4 4\n",
      "4 9\n",
      "4 9\n",
      "4 9\n",
      "4 9\n",
      "4 9\n",
      "4 9\n",
      "4 9\n",
      "4 9\n",
      "4 9\n",
      "4 9\n",
      "4 9\n",
      "4 9\n",
      "4 9\n",
      "5 2\n",
      "9 4\n",
      "4 9\n",
      "4 9\n",
      "4 9\n",
      "4 9\n",
      "5 2\n",
      "9 4\n",
      "4 9\n",
      "4 9\n",
      "4 9\n",
      "4 9\n",
      "17 2\n",
      "5 2\n",
      "4 9\n",
      "9 2\n",
      "4 9\n",
      "4 9\n",
      "4 9\n",
      "9 2\n",
      "4 9\n",
      "4 9\n",
      "4 9\n",
      "4 9\n",
      "10 4\n",
      "53 8\n",
      "16 7\n",
      "6 7\n",
      "3 3\n",
      "18 3\n",
      "17 3\n",
      "18 3\n",
      "17 3\n",
      "17 4\n",
      "18 3\n",
      "7 3\n"
     ]
    }
   ],
   "source": [
    "import docx\n",
    "\n",
    "doc = docx.Document(r'E:\\temp\\jupyter\\MC32P7510_UMAN_V1.5.docx')\n",
    "\n",
    "for tab in doc.tables:\n",
    "    print(len(tab.rows), len(tab.columns))"
   ]
  },
  {
   "cell_type": "code",
   "execution_count": null,
   "metadata": {
    "collapsed": true
   },
   "outputs": [],
   "source": []
  }
 ],
 "metadata": {
  "kernelspec": {
   "display_name": "Python 3",
   "language": "python",
   "name": "python3"
  },
  "language_info": {
   "codemirror_mode": {
    "name": "ipython",
    "version": 3
   },
   "file_extension": ".py",
   "mimetype": "text/x-python",
   "name": "python",
   "nbconvert_exporter": "python",
   "pygments_lexer": "ipython3",
   "version": "3.4.2"
  }
 },
 "nbformat": 4,
 "nbformat_minor": 1
}
